{
 "cells": [
  {
   "cell_type": "code",
   "execution_count": 1,
   "metadata": {},
   "outputs": [],
   "source": [
    "# IMPORT GENERIC PACKAGES\n",
    "import numpy as np # numerical calc package\n",
    "import pandas as pd # holds data\n",
    "import matplotlib.pyplot as plt # plotting library\n",
    "import seaborn as sns # pretty plotting\n",
    "import pandas_profiling as pp\n",
    "import datetime\n",
    "\n",
    "import xgboost as xgb"
   ]
  },
  {
   "cell_type": "code",
   "execution_count": 2,
   "metadata": {},
   "outputs": [],
   "source": [
    "sns.set(style='white', rc={'figure.figsize':(20,10)})\n",
    "\n",
    "from sklearn.linear_model import LinearRegression # linear regression package\n",
    "from sklearn.model_selection import train_test_split # split dataset\n",
    "from sklearn.metrics import mean_squared_error as mse # Measurement metric\n",
    "\n",
    "import sklearn.metrics as metrics\n",
    "from tabulate import tabulate\n",
    "\n",
    "from sklearn.preprocessing import StandardScaler"
   ]
  },
  {
   "cell_type": "code",
   "execution_count": 3,
   "metadata": {},
   "outputs": [
    {
     "name": "stdout",
     "output_type": "stream",
     "text": [
      "C:\\Users\\mox.ballo\\OneDrive\\FTW\\Lectures\\week6\\exercise\\FTW3-Day6\n"
     ]
    }
   ],
   "source": [
    "import os\n",
    "cwd = os.getcwd()\n",
    "print(cwd)\n",
    "os.chdir('C:/Users/mox.ballo/OneDrive/FTW/Lectures/week6/exercise/FTW3-Day6')\n",
    "data = pd.read_csv('census.csv')"
   ]
  },
  {
   "cell_type": "code",
   "execution_count": 4,
   "metadata": {},
   "outputs": [],
   "source": [
    "# Dummy dataframes\n",
    "workclass = pd.get_dummies(data['workclass'])\n",
    "educ = pd.get_dummies(data['education_level'])\n",
    "civstat = pd.get_dummies(data['marital-status'])\n",
    "occup = pd.get_dummies(data['occupation'])\n",
    "relat = pd.get_dummies(data['relationship'])\n",
    "race = pd.get_dummies(data['race'])\n",
    "sex = pd.get_dummies(data['sex'])\n",
    "natco = pd.get_dummies(data['native-country'])\n"
   ]
  },
  {
   "cell_type": "code",
   "execution_count": 5,
   "metadata": {},
   "outputs": [],
   "source": [
    "income = pd.get_dummies(data['income'])\n",
    "data['capgain']=np.log(data['capital-gain'] +1 )\n",
    "data['caploss']=np.log(data['capital-loss'] +1 )\n",
    "\n"
   ]
  },
  {
   "cell_type": "code",
   "execution_count": 6,
   "metadata": {},
   "outputs": [],
   "source": [
    "dummies = list(workclass.columns.values) + list(educ.columns.values) + list(civstat.columns.values) + list(occup.columns.values) + list(relat.columns.values) + list(race.columns.values) + list(sex.columns.values) + list(natco.columns.values)"
   ]
  },
  {
   "cell_type": "code",
   "execution_count": 7,
   "metadata": {},
   "outputs": [],
   "source": [
    "datareg = pd.concat([data, workclass, educ, civstat, occup, relat, race, sex, natco, income], axis=1, sort=False)"
   ]
  },
  {
   "cell_type": "code",
   "execution_count": 8,
   "metadata": {},
   "outputs": [],
   "source": [
    "features = dummies + ['age','education-num', 'capgain', 'caploss', 'hours-per-week']  "
   ]
  },
  {
   "cell_type": "code",
   "execution_count": 9,
   "metadata": {},
   "outputs": [],
   "source": [
    "X = datareg[features]\n",
    "y = datareg['>50K']"
   ]
  },
  {
   "cell_type": "code",
   "execution_count": 10,
   "metadata": {},
   "outputs": [],
   "source": [
    "X_train, X_test, y_train, y_test = train_test_split(X, y, test_size = 0.4, random_state = 42)"
   ]
  },
  {
   "cell_type": "code",
   "execution_count": 11,
   "metadata": {},
   "outputs": [
    {
     "name": "stdout",
     "output_type": "stream",
     "text": [
      "              precision    recall  f1-score   support\n",
      "\n",
      "           0       0.88      0.95      0.91     13636\n",
      "           1       0.79      0.60      0.68      4453\n",
      "\n",
      "    accuracy                           0.86     18089\n",
      "   macro avg       0.84      0.77      0.80     18089\n",
      "weighted avg       0.86      0.86      0.86     18089\n",
      "\n"
     ]
    }
   ],
   "source": [
    "xg_reg = xgb.XGBClassifier()\n",
    "xg_reg.fit(X_train, y_train)\n",
    "y_predicted = xg_reg.predict(X_test)\n",
    "\n",
    "from sklearn.metrics import classification_report\n",
    "print(classification_report(y_test, y_predicted))\n",
    "           \n",
    "# accuracy = metrics.accuracy_score(y_test, y_predicted)\n",
    "# precision = metrics.precision_score(y_test, y_predicted)\n",
    "# recall = metrics.recall_score(y_test, y_predicted)\n",
    "\n",
    "# print(f\"Accuracy = {accuracy}, precision = {precision}, and recall = {recall} \")"
   ]
  },
  {
   "cell_type": "markdown",
   "metadata": {},
   "source": [
    "# Generate Synthetic Samples"
   ]
  },
  {
   "cell_type": "code",
   "execution_count": 12,
   "metadata": {},
   "outputs": [],
   "source": [
    "from imblearn.over_sampling import SMOTE\n",
    "\n",
    "sm = SMOTE(random_state = 42)\n",
    "X_res, y_res = sm.fit_resample(X, y)"
   ]
  },
  {
   "cell_type": "code",
   "execution_count": 13,
   "metadata": {},
   "outputs": [],
   "source": [
    "Xres_train, Xres_test, yres_train, yres_test = train_test_split(X_res, y_res, test_size = 0.4, random_state = 42)\n",
    "\n",
    "xg_reg = xgb.XGBClassifier(objective= 'binary:logistic', nthread=4,seed=42)\n",
    "xg_reg.fit(Xres_train, yres_train)\n",
    "yres_predicted = xg_reg.predict(Xres_test)"
   ]
  },
  {
   "cell_type": "code",
   "execution_count": 14,
   "metadata": {},
   "outputs": [
    {
     "name": "stdout",
     "output_type": "stream",
     "text": [
      "              precision    recall  f1-score   support\n",
      "\n",
      "           0       0.90      0.82      0.86     13595\n",
      "           1       0.84      0.91      0.87     13617\n",
      "\n",
      "    accuracy                           0.87     27212\n",
      "   macro avg       0.87      0.87      0.86     27212\n",
      "weighted avg       0.87      0.87      0.86     27212\n",
      "\n"
     ]
    }
   ],
   "source": [
    "print(classification_report(yres_test, yres_predicted))"
   ]
  },
  {
   "cell_type": "code",
   "execution_count": null,
   "metadata": {},
   "outputs": [],
   "source": [
    "#ROC Plot\n",
    "\n",
    "fpr, tpr, threshold = metrics.roc_curve(yres_test, yres_predicted)\n",
    "roc_auc = metrics.auc(fpr, tpr)\n",
    "\n",
    "plt.title('Receiver Operating Characteristic')\n",
    "plt.plot(fpr, tpr, 'b', label = 'AUC = %0.2f' % roc_auc)\n",
    "plt.legend(loc = 'lower right')\n",
    "plt.plot([0, 1], [0, 1],'r--')\n",
    "plt.xlim([0, 1])\n",
    "plt.ylim([0, 1])\n",
    "plt.ylabel('True Positive Rate')\n",
    "plt.xlabel('False Positive Rate')\n",
    "plt.show()"
   ]
  },
  {
   "cell_type": "code",
   "execution_count": null,
   "metadata": {},
   "outputs": [],
   "source": [
    "cm = metrics.confusion_matrix(yres_test, yres_predicted)\n",
    "annot_kws = {\"ha\": 'left',\"va\": 'top'} # position \n",
    "sns.heatmap(cm, annot = True, cmap='Blues', fmt='g')"
   ]
  },
  {
   "cell_type": "markdown",
   "metadata": {},
   "source": [
    "# Pipeline v1"
   ]
  },
  {
   "cell_type": "code",
   "execution_count": 15,
   "metadata": {},
   "outputs": [
    {
     "name": "stdout",
     "output_type": "stream",
     "text": [
      "              precision    recall  f1-score   support\n",
      "\n",
      "           0       0.88      0.88      0.88     13595\n",
      "           1       0.88      0.88      0.88     13617\n",
      "\n",
      "    accuracy                           0.88     27212\n",
      "   macro avg       0.88      0.88      0.88     27212\n",
      "weighted avg       0.88      0.88      0.88     27212\n",
      "\n"
     ]
    }
   ],
   "source": [
    "from sklearn.pipeline import Pipeline\n",
    "from sklearn.decomposition import PCA\n",
    "\n",
    "pca = PCA()\n",
    "xgb_reg_pca = xgb.XGBClassifier(objective= 'binary:logistic', nthread=4,seed=42)\n",
    "pipeline = Pipeline(steps=[('pca', pca), ('xgb', xgb_reg_pca)])\n",
    "pipeline.fit(Xres_train, yres_train)\n",
    "\n",
    "yres_predicted = pipeline.predict(Xres_test)\n",
    "print(classification_report(yres_test, yres_predicted))"
   ]
  },
  {
   "cell_type": "markdown",
   "metadata": {},
   "source": [
    "# Pipeline v2"
   ]
  },
  {
   "cell_type": "code",
   "execution_count": 16,
   "metadata": {},
   "outputs": [],
   "source": [
    "parameters = {\n",
    "    'max_depth': range (2, 10, 1),\n",
    "    'n_estimators': range(60, 220, 40),\n",
    "    'learning_rate': [0.1, 0.01, 0.05]\n",
    "}"
   ]
  },
  {
   "cell_type": "code",
   "execution_count": 17,
   "metadata": {},
   "outputs": [],
   "source": [
    "from sklearn.model_selection import GridSearchCV\n",
    "from sklearn.model_selection import RandomizedSearchCV\n",
    "grid_search = GridSearchCV(\n",
    "    estimator=xgb_reg_pca,\n",
    "    param_grid=parameters,\n",
    "    scoring = 'roc_auc',\n",
    "    n_jobs = 10,\n",
    "    cv = 3,\n",
    "    verbose=True\n",
    ")"
   ]
  },
  {
   "cell_type": "code",
   "execution_count": 18,
   "metadata": {},
   "outputs": [
    {
     "name": "stdout",
     "output_type": "stream",
     "text": [
      "Fitting 3 folds for each of 96 candidates, totalling 288 fits\n"
     ]
    },
    {
     "name": "stderr",
     "output_type": "stream",
     "text": [
      "[Parallel(n_jobs=10)]: Using backend LokyBackend with 10 concurrent workers.\n",
      "[Parallel(n_jobs=10)]: Done  30 tasks      | elapsed:  6.6min\n",
      "[Parallel(n_jobs=10)]: Done 180 tasks      | elapsed: 42.4min\n",
      "[Parallel(n_jobs=10)]: Done 288 out of 288 | elapsed: 67.7min finished\n"
     ]
    },
    {
     "data": {
      "text/plain": [
       "GridSearchCV(cv=3, error_score=nan,\n",
       "             estimator=XGBClassifier(base_score=0.5, booster='gbtree',\n",
       "                                     colsample_bylevel=1, colsample_bynode=1,\n",
       "                                     colsample_bytree=1, gamma=0,\n",
       "                                     learning_rate=0.1, max_delta_step=0,\n",
       "                                     max_depth=3, min_child_weight=1,\n",
       "                                     missing=None, n_estimators=100, n_jobs=1,\n",
       "                                     nthread=4, objective='binary:logistic',\n",
       "                                     random_state=0, reg_alpha=0, reg_lambda=1,\n",
       "                                     scale_pos_weight=1, seed=42, silent=None,\n",
       "                                     subsample=1, verbosity=1),\n",
       "             iid='deprecated', n_jobs=10,\n",
       "             param_grid={'learning_rate': [0.1, 0.01, 0.05],\n",
       "                         'max_depth': range(2, 10),\n",
       "                         'n_estimators': range(60, 220, 40)},\n",
       "             pre_dispatch='2*n_jobs', refit=True, return_train_score=False,\n",
       "             scoring='roc_auc', verbose=True)"
      ]
     },
     "execution_count": 18,
     "metadata": {},
     "output_type": "execute_result"
    }
   ],
   "source": [
    "grid_search.fit(Xres_train, yres_train)\n"
   ]
  },
  {
   "cell_type": "code",
   "execution_count": 19,
   "metadata": {},
   "outputs": [
    {
     "name": "stdout",
     "output_type": "stream",
     "text": [
      "              precision    recall  f1-score   support\n",
      "\n",
      "           0       0.91      0.88      0.90     13595\n",
      "           1       0.89      0.91      0.90     13617\n",
      "\n",
      "    accuracy                           0.90     27212\n",
      "   macro avg       0.90      0.90      0.90     27212\n",
      "weighted avg       0.90      0.90      0.90     27212\n",
      "\n"
     ]
    }
   ],
   "source": [
    "yres_predicted = grid_search.predict(Xres_test)\n",
    "print(classification_report(yres_test, yres_predicted))"
   ]
  },
  {
   "cell_type": "code",
   "execution_count": null,
   "metadata": {},
   "outputs": [],
   "source": []
  }
 ],
 "metadata": {
  "kernelspec": {
   "display_name": "Python 3",
   "language": "python",
   "name": "python3"
  },
  "language_info": {
   "codemirror_mode": {
    "name": "ipython",
    "version": 3
   },
   "file_extension": ".py",
   "mimetype": "text/x-python",
   "name": "python",
   "nbconvert_exporter": "python",
   "pygments_lexer": "ipython3",
   "version": "3.7.4"
  }
 },
 "nbformat": 4,
 "nbformat_minor": 2
}
